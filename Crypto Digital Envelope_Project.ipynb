{
 "cells": [
  {
   "cell_type": "markdown",
   "id": "60d6dd6f",
   "metadata": {},
   "source": [
    "### Import necessary libraries"
   ]
  },
  {
   "cell_type": "code",
   "execution_count": 1,
   "id": "ae39c892",
   "metadata": {},
   "outputs": [],
   "source": [
    "import os\n",
    "import random\n",
    "import string\n",
    "import time\n",
    "from cryptography.hazmat.primitives import serialization, hashes\n",
    "from cryptography.hazmat.primitives.asymmetric import rsa, padding, utils\n",
    "from cryptography.hazmat.backends import default_backend\n",
    "from cryptography.hazmat.primitives.ciphers import Cipher, algorithms, modes\n",
    "from cryptography.exceptions import InvalidSignature"
   ]
  },
  {
   "cell_type": "markdown",
   "id": "6cee1442",
   "metadata": {},
   "source": [
    "### Function to generate RSA key pair"
   ]
  },
  {
   "cell_type": "code",
   "execution_count": 2,
   "id": "df20ca6e",
   "metadata": {},
   "outputs": [],
   "source": [
    "def generate_rsa_key_pair():\n",
    "    private_key = rsa.generate_private_key(\n",
    "        public_exponent=65537,\n",
    "        key_size=2048,\n",
    "        backend=default_backend()\n",
    "    )\n",
    "    public_key = private_key.public_key()\n",
    "    return private_key, public_key"
   ]
  },
  {
   "cell_type": "markdown",
   "id": "11d60c25",
   "metadata": {},
   "source": [
    "### Function for RSA encryption"
   ]
  },
  {
   "cell_type": "code",
   "execution_count": 3,
   "id": "e5d6dd60",
   "metadata": {},
   "outputs": [],
   "source": [
    "def rsa_encrypt(message, public_key):\n",
    "    start_time = time.time()\n",
    "    \n",
    "    # Split the message into blocks (in practice, handle this more robustly)\n",
    "    block_size = 128\n",
    "    blocks = [message[i:i+block_size] for i in range(0, len(message), block_size)]\n",
    "\n",
    "    # Encrypt each block\n",
    "    encrypted_blocks = [public_key.encrypt(\n",
    "        block,\n",
    "        padding.OAEP(\n",
    "            mgf=padding.MGF1(algorithm=hashes.SHA256()),\n",
    "            algorithm=hashes.SHA256(),\n",
    "            label=None\n",
    "        )\n",
    "    ) for block in blocks]\n",
    "\n",
    "    encrypted_message = b''.join(encrypted_blocks)\n",
    "\n",
    "    end_time = time.time()\n",
    "    print(f\"RSA Encryption Time taken: {end_time - start_time} seconds\")\n",
    "\n",
    "    return encrypted_message"
   ]
  },
  {
   "cell_type": "markdown",
   "id": "7509573f",
   "metadata": {},
   "source": [
    "### Function for RSA decryption"
   ]
  },
  {
   "cell_type": "code",
   "execution_count": 4,
   "id": "1f377ee8",
   "metadata": {},
   "outputs": [],
   "source": [
    "def rsa_decrypt(encrypted_message, private_key):\n",
    "    start_time = time.time()\n",
    "\n",
    "    # Split the encrypted message into blocks\n",
    "    block_size = 256\n",
    "    encrypted_blocks = [encrypted_message[i:i+block_size] for i in range(0, len(encrypted_message), block_size)]\n",
    "\n",
    "    # Decrypt each block\n",
    "    decrypted_blocks = [private_key.decrypt(\n",
    "        block,\n",
    "        padding.OAEP(\n",
    "            mgf=padding.MGF1(algorithm=hashes.SHA256()),\n",
    "            algorithm=hashes.SHA256(),\n",
    "            label=None\n",
    "        )\n",
    "    ) for block in encrypted_blocks]\n",
    "\n",
    "    decrypted_message = b''.join(decrypted_blocks)\n",
    "\n",
    "    end_time = time.time()\n",
    "    print(f\"RSA Decryption Time taken: {end_time - start_time} seconds\")\n",
    "\n",
    "    return decrypted_message"
   ]
  },
  {
   "cell_type": "markdown",
   "id": "b1b20590",
   "metadata": {},
   "source": [
    "- In the code we provided, the block sizes for encryption and decryption are indeed different. The block size for encryption is set to 128 bytes (block_size = 128), while the block size for decryption is set to 256 bytes (block_size = 256). Let's discuss why this might be the case.\n",
    "\n",
    "- The block size for encryption and decryption in RSA should ideally be the same. The block size is determined by the key size and the padding scheme used. In our code, the padding scheme is padding.OAEP with SHA-256 as the hash function.\n",
    "\n",
    "- The key size of the RSA key pair affects the block size.\n",
    "\n",
    "- In practice, it's common to use a padding scheme like OAEP, which adds additional bits to the block for security purposes. The actual block size for encryption and decryption is influenced by the padding scheme and the key size. "
   ]
  },
  {
   "cell_type": "markdown",
   "id": "6a43ef99",
   "metadata": {},
   "source": [
    "### Randomly Generated 100MB text file"
   ]
  },
  {
   "cell_type": "code",
   "execution_count": 5,
   "id": "5644ec76",
   "metadata": {},
   "outputs": [
    {
     "name": "stdout",
     "output_type": "stream",
     "text": [
      "Text file 'large_file.txt' generated successfully.\n"
     ]
    }
   ],
   "source": [
    "def generate_text_file(file_path, size_in_bytes):\n",
    "    with open(file_path, 'w') as file:\n",
    "        # Generate random data and write it to the file\n",
    "        data = ''.join(random.choices(string.ascii_letters + string.digits, k=size_in_bytes))\n",
    "        file.write(data)\n",
    "\n",
    "# Set the file path and size (100 MB)\n",
    "file_path = 'large_file.txt'\n",
    "size_in_bytes = 100 * 1024 * 1024  # 100 MB\n",
    "\n",
    "# Generate the text file\n",
    "generate_text_file(file_path, size_in_bytes)\n",
    "\n",
    "print(f\"Text file '{file_path}' generated successfully.\")"
   ]
  },
  {
   "cell_type": "markdown",
   "id": "f24c9c8c",
   "metadata": {},
   "source": [
    "### Function to read file content"
   ]
  },
  {
   "cell_type": "code",
   "execution_count": 6,
   "id": "f2c5d8f8",
   "metadata": {},
   "outputs": [],
   "source": [
    "def read_file_content(file_path):\n",
    "    with open(\"large_file.txt\", 'r') as file:\n",
    "        return file.read()"
   ]
  },
  {
   "cell_type": "markdown",
   "id": "550b3893",
   "metadata": {},
   "source": [
    "### RSA encryption & decryption with the use of  large_text file of 100 mb randomly generated"
   ]
  },
  {
   "cell_type": "code",
   "execution_count": 7,
   "id": "dfa165c2",
   "metadata": {},
   "outputs": [
    {
     "name": "stdout",
     "output_type": "stream",
     "text": [
      "RSA Encryption Time taken: 27.779789924621582 seconds\n",
      "RSA Decryption Time taken: 288.45883679389954 seconds\n",
      "Total Time taken: 318.2207477092743 seconds\n"
     ]
    }
   ],
   "source": [
    "total_start_time = time.time()\n",
    "\n",
    "# Specify the path to the input text file\n",
    "input_file_path = 'large_file.txt'\n",
    "\n",
    "# Read plaintext message from file\n",
    "plaintext_message = read_file_content(input_file_path)\n",
    "\n",
    "# Sender's side\n",
    "sender_private_key, sender_public_key = generate_rsa_key_pair()\n",
    "\n",
    "# Step 1: RSA encryption\n",
    "encrypted_message = rsa_encrypt(plaintext_message.encode(), sender_public_key)\n",
    "\n",
    "# Write encrypted message to a file\n",
    "with open('encrypted_output.txt', 'wb') as encrypted_file:\n",
    "    encrypted_file.write(encrypted_message)\n",
    "\n",
    "# Receiver's side\n",
    "# Step 2: RSA decryption\n",
    "decrypted_message = rsa_decrypt(encrypted_message, sender_private_key)\n",
    "\n",
    "# Write decrypted message to a file\n",
    "with open('decrypted_output.txt', 'wb') as decrypted_file:\n",
    "    decrypted_file.write(decrypted_message)\n",
    "\n",
    "total_end_time = time.time()\n",
    "print(f\"Total Time taken: {total_end_time - total_start_time} seconds\")\n"
   ]
  },
  {
   "cell_type": "markdown",
   "id": "78e84a1e",
   "metadata": {},
   "source": [
    "### RSA generate, encrypt, and decrypt a 256-bit key "
   ]
  },
  {
   "cell_type": "code",
   "execution_count": 8,
   "id": "959676d5",
   "metadata": {},
   "outputs": [
    {
     "name": "stdout",
     "output_type": "stream",
     "text": [
      "0101010101010101010101010101010101010101010101010101010101010101\n",
      "RSA Encryption Time taken: 0.0001442432403564453 seconds\n",
      "Encrypted AES Key: 10d865d0593866b68fca7517991b2fd182843aec33bf890d3081a6747e42f787b7b0ff8824c5a8a485d006a24ff7ef7adde20bff83d5afe1528d9121eeece19c61dbb71c6c6065a1126003491bf9b298ab806d992b89cc78e54bb57a572b10f222ae5cb533c87ebb43a52d316e1314e51cbbb27b9362c58e5e64a299017ef4fd6d36fc3c2ac798c16b0e3c06e26a2b2c01f30c6764a0e624730384768c8d0ab4e4d70fca8609e39a84ec85606b223f135afe04c7c53bff6d7b5968312abf95aef9af1e3f2dc731869695abe65f3610505a2e0c065368f6ce284444cd4352b9c7f57da833bb17e22cbad83391223f8b89fba72b65fa614280c16614817e0e113e\n",
      "RSA Decryption Time taken: 0.0009937286376953125 seconds\n",
      "Decrypted AES Key: 0101010101010101010101010101010101010101010101010101010101010101\n",
      "Total Time taken: 0.24602079391479492 seconds\n"
     ]
    }
   ],
   "source": [
    "# Block 5: Example Usage to generate, encrypt, and decrypt a 256-bit key\n",
    "total_start_time = time.time()\n",
    "\n",
    "# Generate a 256-bit key (32 bytes)\n",
    "aes_key = b'\\x01' * 32\n",
    "\n",
    "# Save AES key to a text file\n",
    "with open('aes_key.txt', 'wb') as aes_file:\n",
    "    aes_file.write(aes_key)\n",
    "    \n",
    "print(aes_key.hex())\n",
    "\n",
    "\n",
    "# Sender's side\n",
    "sender_private_key, sender_public_key = generate_rsa_key_pair()\n",
    "\n",
    "# Step 1: RSA encryption of the AES key\n",
    "encrypted_aes_key = rsa_encrypt(aes_key, sender_public_key)\n",
    "print(\"Encrypted AES Key:\", encrypted_aes_key.hex())\n",
    "\n",
    "# # Write encrypted AES key to a file\n",
    "# with open('encrypted_aes_key.txt', 'wb') as encrypted_file:\n",
    "#     encrypted_file.write(encrypted_aes_key)\n",
    "\n",
    "# Receiver's side\n",
    "# Step 2: RSA decryption of the AES key\n",
    "decrypted_aes_key = rsa_decrypt(encrypted_aes_key, sender_private_key)\n",
    "print(\"Decrypted AES Key:\", decrypted_aes_key.hex())\n",
    "\n",
    "total_end_time = time.time()\n",
    "print(f\"Total Time taken: {total_end_time - total_start_time} seconds\")"
   ]
  },
  {
   "cell_type": "markdown",
   "id": "8a792215",
   "metadata": {},
   "source": [
    "### AES Encryption, Decryption functions and function to remove padding from the decrypted message"
   ]
  },
  {
   "cell_type": "code",
   "execution_count": 9,
   "id": "5dcea846",
   "metadata": {},
   "outputs": [],
   "source": [
    "# Function to pad the message to be a multiple of the block size\n",
    "def pad(message):\n",
    "    block_size = algorithms.AES.block_size // 8\n",
    "    padding_length = block_size - (len(message) % block_size)\n",
    "    padding = bytes([padding_length]) * padding_length\n",
    "    return message + padding\n",
    "\n",
    "# Function to remove padding from the decrypted message\n",
    "def unpad(message):\n",
    "    padding_length = message[-1]\n",
    "    return message[:-padding_length]\n",
    "\n",
    "# AES encryption function\n",
    "def aes_encrypt(message, key):\n",
    "    cipher = Cipher(algorithms.AES(key), modes.ECB(), backend=default_backend())\n",
    "    encryptor = cipher.encryptor()\n",
    "    encrypted_message = encryptor.update(pad(message)) + encryptor.finalize()\n",
    "    return encrypted_message\n",
    "\n",
    "# AES decryption function\n",
    "def aes_decrypt(encrypted_message, key):\n",
    "    cipher = Cipher(algorithms.AES(key), modes.ECB(), backend=default_backend())\n",
    "    decryptor = cipher.decryptor()\n",
    "    decrypted_message = decryptor.update(encrypted_message) + decryptor.finalize()\n",
    "    return unpad(decrypted_message)\n"
   ]
  },
  {
   "cell_type": "markdown",
   "id": "1b3021e2",
   "metadata": {},
   "source": [
    "### Encryption of large_file txt of 100 MB using AES key which we got from earlier block and stored"
   ]
  },
  {
   "cell_type": "code",
   "execution_count": 10,
   "id": "e78e28d7",
   "metadata": {},
   "outputs": [
    {
     "name": "stdout",
     "output_type": "stream",
     "text": [
      "Loading AES key took 0.0013799667358398438 seconds\n",
      "Reading plaintext message took 0.05080461502075195 seconds\n",
      "Encrypting message took 0.19324469566345215 seconds\n",
      "Writing encrypted message to file took 1.3886024951934814 seconds\n",
      "Decrypting message took 0.2001664638519287 seconds\n",
      "Writing decrypted message to file took 0.7878463268280029 seconds\n"
     ]
    }
   ],
   "source": [
    "# Load the AES key from the file\n",
    "start_time = time.time()\n",
    "with open('aes_key.txt', 'rb') as key_file:\n",
    "    aes_key = key_file.read()\n",
    "end_time = time.time()\n",
    "print(f\"Loading AES key took {end_time - start_time} seconds\")\n",
    "\n",
    "# Specify the path to the input text file\n",
    "input_file_path = 'large_file.txt'\n",
    "\n",
    "# Read plaintext message from file\n",
    "start_time = time.time()\n",
    "with open('large_file.txt', 'rb') as file:\n",
    "    plaintext_message = file.read()\n",
    "end_time = time.time()\n",
    "print(f\"Reading plaintext message took {end_time - start_time} seconds\")\n",
    "\n",
    "# Encrypt the large text file using AES\n",
    "start_time = time.time()\n",
    "encrypted_message = aes_encrypt(plaintext_message, aes_key)\n",
    "end_time = time.time()\n",
    "print(f\"Encrypting message took {end_time - start_time} seconds\")\n",
    "\n",
    "# Write the encrypted message to a file\n",
    "start_time = time.time()\n",
    "with open('aes_encrypted_large_file.txt', 'wb') as encrypted_file:\n",
    "    encrypted_file.write(encrypted_message)\n",
    "end_time = time.time()\n",
    "print(f\"Writing encrypted message to file took {end_time - start_time} seconds\")\n",
    "\n",
    "# Decrypt the large text file using AES\n",
    "start_time = time.time()\n",
    "decrypted_message = aes_decrypt(encrypted_message, aes_key)\n",
    "end_time = time.time()\n",
    "print(f\"Decrypting message took {end_time - start_time} seconds\")\n",
    "\n",
    "# Write the decrypted message to a file\n",
    "start_time = time.time()\n",
    "with open('aes_decrypted_large_file.txt', 'wb') as decrypted_file:\n",
    "    decrypted_file.write(decrypted_message)\n",
    "end_time = time.time()\n",
    "print(f\"Writing decrypted message to file took {end_time - start_time} seconds\")"
   ]
  },
  {
   "cell_type": "markdown",
   "id": "7b89e237",
   "metadata": {},
   "source": [
    "### RSA Signature Execution Block"
   ]
  },
  {
   "cell_type": "code",
   "execution_count": 11,
   "id": "c2b9edb7",
   "metadata": {},
   "outputs": [],
   "source": [
    "# Function to generate RSA signature\n",
    "def generate_rsa_signature(message, private_key):\n",
    "    start_time = time.time()\n",
    "\n",
    "    signature = private_key.sign(\n",
    "        message,\n",
    "        padding.PSS(\n",
    "            mgf=padding.MGF1(hashes.SHA256()),\n",
    "            salt_length=padding.PSS.MAX_LENGTH\n",
    "        ),\n",
    "        hashes.SHA256()\n",
    "    )\n",
    "\n",
    "    end_time = time.time()\n",
    "    print(f\"RSA Signature Generation Time taken: {end_time - start_time} seconds\")\n",
    "\n",
    "    return signature"
   ]
  },
  {
   "cell_type": "code",
   "execution_count": 12,
   "id": "17714c48",
   "metadata": {},
   "outputs": [],
   "source": [
    "# Function to verify RSA signature\n",
    "def verify_rsa_signature(message, signature, public_key):\n",
    "    start_time = time.time()\n",
    "\n",
    "    try:\n",
    "        public_key.verify(\n",
    "            signature,\n",
    "            message,\n",
    "            padding.PSS(\n",
    "                mgf=padding.MGF1(hashes.SHA256()),\n",
    "                salt_length=padding.PSS.MAX_LENGTH\n",
    "            ),\n",
    "            hashes.SHA256()\n",
    "        )\n",
    "        print(\"RSA Signature Verification: Signature is valid\")\n",
    "    except InvalidSignature:\n",
    "        print(\"RSA Signature Verification: Signature is invalid\")\n",
    "\n",
    "    end_time = time.time()\n",
    "    print(f\"RSA Signature Verification Time taken: {end_time - start_time} seconds\")\n"
   ]
  },
  {
   "cell_type": "code",
   "execution_count": 13,
   "id": "89dcde8f",
   "metadata": {},
   "outputs": [
    {
     "name": "stdout",
     "output_type": "stream",
     "text": [
      "RSA Signature Generation Time taken: 0.08523201942443848 seconds\n",
      "RSA Signature Verification: Signature is valid\n",
      "RSA Signature Verification Time taken: 0.08192300796508789 seconds\n"
     ]
    }
   ],
   "source": [
    "# Sender's side\n",
    "# Step 3: Generate RSA signature\n",
    "signature = generate_rsa_signature(encrypted_message, sender_private_key)\n",
    "\n",
    "# Write RSA signature to a file\n",
    "with open('rsa_signature.txt', 'wb') as signature_file:\n",
    "    signature_file.write(signature)\n",
    "\n",
    "# Receiver's side\n",
    "# Load RSA signature from the file\n",
    "with open('rsa_signature.txt', 'rb') as signature_file:\n",
    "    loaded_signature = signature_file.read()\n",
    "\n",
    "# Step 4: Verify RSA signature\n",
    "verify_rsa_signature(encrypted_message, loaded_signature, sender_public_key)"
   ]
  },
  {
   "cell_type": "code",
   "execution_count": null,
   "id": "7beba5d7",
   "metadata": {},
   "outputs": [],
   "source": []
  }
 ],
 "metadata": {
  "kernelspec": {
   "display_name": "Python 3 (ipykernel)",
   "language": "python",
   "name": "python3"
  },
  "language_info": {
   "codemirror_mode": {
    "name": "ipython",
    "version": 3
   },
   "file_extension": ".py",
   "mimetype": "text/x-python",
   "name": "python",
   "nbconvert_exporter": "python",
   "pygments_lexer": "ipython3",
   "version": "3.11.5"
  }
 },
 "nbformat": 4,
 "nbformat_minor": 5
}
